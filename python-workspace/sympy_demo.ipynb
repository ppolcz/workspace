{
 "metadata": {
  "name": "",
  "signature": "sha256:7659b7f4821639e1b80dc943b148acca621056665effc89c2a01a5315fa3f87d"
 },
 "nbformat": 3,
 "nbformat_minor": 0,
 "worksheets": [
  {
   "cells": [
    {
     "cell_type": "code",
     "collapsed": false,
     "input": [
      "from sympy import *\n",
      "import numpy as np"
     ],
     "language": "python",
     "metadata": {},
     "outputs": [],
     "prompt_number": 8
    },
    {
     "cell_type": "code",
     "collapsed": false,
     "input": [
      "init_printing()\n",
      "init_session()"
     ],
     "language": "python",
     "metadata": {},
     "outputs": [
      {
       "output_type": "stream",
       "stream": "stdout",
       "text": [
        "IPython console for SymPy 0.7.6.1 (Python 2.7.12-64-bit) (ground types: python)\n",
        "\n",
        "These commands were executed:\n",
        ">>> from __future__ import division\n",
        ">>> from sympy import *\n",
        ">>> x, y, z, t = symbols('x y z t')\n",
        ">>> k, m, n = symbols('k m n', integer=True)\n",
        ">>> f, g, h = symbols('f g h', cls=Function)\n",
        ">>> init_printing()\n",
        "\n",
        "Documentation can be found at http://www.sympy.org\n"
       ]
      }
     ],
     "prompt_number": 9
    },
    {
     "cell_type": "code",
     "collapsed": false,
     "input": [
      "I = Integral(sqrt(y/x),(x,y**2,2*y)); I"
     ],
     "language": "python",
     "metadata": {},
     "outputs": [
      {
       "latex": [
        "$$\\int_{y^{2}}^{2 y} \\sqrt{\\frac{y}{x}}\\, dx$$"
       ],
       "metadata": {},
       "output_type": "pyout",
       "png": "[encoded data removed]",
       "prompt_number": 10,
       "text": [
        "2\u22c5y           \n",
        " \u2320            \n",
        " \u23ae      ___   \n",
        " \u23ae     \u2571 y    \n",
        " \u23ae    \u2571  \u2500  dx\n",
        " \u23ae  \u2572\u2571   x    \n",
        " \u2321            \n",
        "  2           \n",
        " y            "
       ]
      }
     ],
     "prompt_number": 10
    },
    {
     "cell_type": "code",
     "collapsed": false,
     "input": [
      "simplify(I.doit())"
     ],
     "language": "python",
     "metadata": {},
     "outputs": [
      {
       "latex": [
        "$$2 y^{\\frac{3}{2}} \\left(- y \\sqrt{\\frac{1}{y^{2}}} + \\sqrt{2} \\sqrt{\\frac{1}{y}}\\right)$$"
       ],
       "metadata": {},
       "output_type": "pyout",
       "png": "[encoded data removed]",
       "prompt_number": 11,
       "text": [
        "       \u239b         ____             ___\u239e\n",
        "   3/2 \u239c        \u2571 1       ___    \u2571 1 \u239f\n",
        "2\u22c5y   \u22c5\u239c- y\u22c5   \u2571  \u2500\u2500  + \u2572\u2571 2 \u22c5  \u2571  \u2500 \u239f\n",
        "       \u239c      \u2571    2          \u2572\u2571   y \u239f\n",
        "       \u239d    \u2572\u2571    y                  \u23a0"
       ]
      }
     ],
     "prompt_number": 11
    },
    {
     "cell_type": "code",
     "collapsed": false,
     "input": [
      "factor(x**2 - 2*x - 2)"
     ],
     "language": "python",
     "metadata": {},
     "outputs": [
      {
       "latex": [
        "$$x^{2} - 2 x - 2$$"
       ],
       "metadata": {},
       "output_type": "pyout",
       "png": "[encoded data removed]",
       "prompt_number": 12,
       "text": [
        " 2          \n",
        "x  - 2\u22c5x - 2"
       ]
      }
     ],
     "prompt_number": 12
    },
    {
     "cell_type": "code",
     "collapsed": false,
     "input": [
      "np.roots([1,-2,-2])"
     ],
     "language": "python",
     "metadata": {},
     "outputs": [
      {
       "metadata": {},
       "output_type": "pyout",
       "prompt_number": 13,
       "text": [
        "array([ 2.73205081, -0.73205081])"
       ]
      }
     ],
     "prompt_number": 13
    },
    {
     "cell_type": "code",
     "collapsed": false,
     "input": [
      "exp(-2*log(2))"
     ],
     "language": "python",
     "metadata": {},
     "outputs": [
      {
       "latex": [
        "$$\\frac{1}{4}$$"
       ],
       "metadata": {},
       "output_type": "pyout",
       "png": "[encoded data removed]",
       "prompt_number": 15,
       "text": [
        "1/4"
       ]
      }
     ],
     "prompt_number": 15
    },
    {
     "cell_type": "code",
     "collapsed": false,
     "input": [],
     "language": "python",
     "metadata": {},
     "outputs": []
    }
   ],
   "metadata": {}
  }
 ]
}